{
 "cells": [
  {
   "cell_type": "code",
   "execution_count": 1,
   "id": "ac5542f1",
   "metadata": {
    "_cell_guid": "b1076dfc-b9ad-4769-8c92-a6c4dae69d19",
    "_uuid": "8f2839f25d086af736a60e9eeb907d3b93b6e0e5",
    "execution": {
     "iopub.execute_input": "2024-03-21T19:20:20.145497Z",
     "iopub.status.busy": "2024-03-21T19:20:20.144876Z",
     "iopub.status.idle": "2024-03-21T19:20:20.155857Z",
     "shell.execute_reply": "2024-03-21T19:20:20.155056Z"
    },
    "papermill": {
     "duration": 0.018698,
     "end_time": "2024-03-21T19:20:20.157903",
     "exception": false,
     "start_time": "2024-03-21T19:20:20.139205",
     "status": "completed"
    },
    "tags": []
   },
   "outputs": [
    {
     "name": "stdout",
     "output_type": "stream",
     "text": [
      "/kaggle/working\n"
     ]
    }
   ],
   "source": [
    "# Setting working directory as HOME\n",
    "import os\n",
    "HOME = os.getcwd()\n",
    "print(HOME)"
   ]
  },
  {
   "cell_type": "code",
   "execution_count": 2,
   "id": "2c6d73e9",
   "metadata": {
    "execution": {
     "iopub.execute_input": "2024-03-21T19:20:20.167134Z",
     "iopub.status.busy": "2024-03-21T19:20:20.166884Z",
     "iopub.status.idle": "2024-03-21T19:20:43.688930Z",
     "shell.execute_reply": "2024-03-21T19:20:43.687570Z"
    },
    "papermill": {
     "duration": 23.529141,
     "end_time": "2024-03-21T19:20:43.691384",
     "exception": false,
     "start_time": "2024-03-21T19:20:20.162243",
     "status": "completed"
    },
    "tags": []
   },
   "outputs": [
    {
     "name": "stderr",
     "output_type": "stream",
     "text": [
      "Ultralytics YOLOv8.0.196 🚀 Python-3.10.13 torch-2.1.2 CUDA:0 (Tesla T4, 15102MiB)\n",
      "Setup complete ✅ (4 CPUs, 31.4 GB RAM, 5519.7/8062.4 GB disk)\n"
     ]
    }
   ],
   "source": [
    "# Installing yolov8 \n",
    "\n",
    "!pip install ultralytics==8.0.196\n",
    "\n",
    "from IPython import display\n",
    "display.clear_output()\n",
    "\n",
    "import ultralytics\n",
    "ultralytics.checks()"
   ]
  },
  {
   "cell_type": "code",
   "execution_count": 3,
   "id": "9f812c46",
   "metadata": {
    "execution": {
     "iopub.execute_input": "2024-03-21T19:20:43.704872Z",
     "iopub.status.busy": "2024-03-21T19:20:43.704462Z",
     "iopub.status.idle": "2024-03-21T19:20:43.709137Z",
     "shell.execute_reply": "2024-03-21T19:20:43.708314Z"
    },
    "papermill": {
     "duration": 0.013659,
     "end_time": "2024-03-21T19:20:43.711158",
     "exception": false,
     "start_time": "2024-03-21T19:20:43.697499",
     "status": "completed"
    },
    "tags": []
   },
   "outputs": [],
   "source": [
    "#importing libraries\n",
    "\n",
    "from ultralytics import YOLO\n",
    "from IPython.display import display, Image"
   ]
  },
  {
   "cell_type": "code",
   "execution_count": 4,
   "id": "395bbda5",
   "metadata": {
    "execution": {
     "iopub.execute_input": "2024-03-21T19:20:43.721241Z",
     "iopub.status.busy": "2024-03-21T19:20:43.720582Z",
     "iopub.status.idle": "2024-03-21T19:20:59.227466Z",
     "shell.execute_reply": "2024-03-21T19:20:59.226477Z"
    },
    "papermill": {
     "duration": 15.514453,
     "end_time": "2024-03-21T19:20:59.229952",
     "exception": false,
     "start_time": "2024-03-21T19:20:43.715499",
     "status": "completed"
    },
    "tags": []
   },
   "outputs": [
    {
     "name": "stdout",
     "output_type": "stream",
     "text": [
      "Requirement already satisfied: fastapi in /opt/conda/lib/python3.10/site-packages (0.108.0)\r\n",
      "Collecting kaleido\r\n",
      "  Downloading kaleido-0.2.1-py2.py3-none-manylinux1_x86_64.whl.metadata (15 kB)\r\n",
      "Collecting python-multipart\r\n",
      "  Downloading python_multipart-0.0.9-py3-none-any.whl.metadata (2.5 kB)\r\n",
      "Requirement already satisfied: uvicorn in /opt/conda/lib/python3.10/site-packages (0.25.0)\r\n",
      "Requirement already satisfied: pydantic!=1.8,!=1.8.1,!=2.0.0,!=2.0.1,!=2.1.0,<3.0.0,>=1.7.4 in /opt/conda/lib/python3.10/site-packages (from fastapi) (2.5.3)\r\n",
      "Requirement already satisfied: starlette<0.33.0,>=0.29.0 in /opt/conda/lib/python3.10/site-packages (from fastapi) (0.32.0.post1)\r\n",
      "Requirement already satisfied: typing-extensions>=4.8.0 in /opt/conda/lib/python3.10/site-packages (from fastapi) (4.9.0)\r\n",
      "Requirement already satisfied: click>=7.0 in /opt/conda/lib/python3.10/site-packages (from uvicorn) (8.1.7)\r\n",
      "Requirement already satisfied: h11>=0.8 in /opt/conda/lib/python3.10/site-packages (from uvicorn) (0.14.0)\r\n",
      "Requirement already satisfied: annotated-types>=0.4.0 in /opt/conda/lib/python3.10/site-packages (from pydantic!=1.8,!=1.8.1,!=2.0.0,!=2.0.1,!=2.1.0,<3.0.0,>=1.7.4->fastapi) (0.6.0)\r\n",
      "Requirement already satisfied: pydantic-core==2.14.6 in /opt/conda/lib/python3.10/site-packages (from pydantic!=1.8,!=1.8.1,!=2.0.0,!=2.0.1,!=2.1.0,<3.0.0,>=1.7.4->fastapi) (2.14.6)\r\n",
      "Requirement already satisfied: anyio<5,>=3.4.0 in /opt/conda/lib/python3.10/site-packages (from starlette<0.33.0,>=0.29.0->fastapi) (4.2.0)\r\n",
      "Requirement already satisfied: idna>=2.8 in /opt/conda/lib/python3.10/site-packages (from anyio<5,>=3.4.0->starlette<0.33.0,>=0.29.0->fastapi) (3.6)\r\n",
      "Requirement already satisfied: sniffio>=1.1 in /opt/conda/lib/python3.10/site-packages (from anyio<5,>=3.4.0->starlette<0.33.0,>=0.29.0->fastapi) (1.3.0)\r\n",
      "Requirement already satisfied: exceptiongroup>=1.0.2 in /opt/conda/lib/python3.10/site-packages (from anyio<5,>=3.4.0->starlette<0.33.0,>=0.29.0->fastapi) (1.2.0)\r\n",
      "Downloading kaleido-0.2.1-py2.py3-none-manylinux1_x86_64.whl (79.9 MB)\r\n",
      "\u001b[2K   \u001b[90m━━━━━━━━━━━━━━━━━━━━━━━━━━━━━━━━━━━━━━━━\u001b[0m \u001b[32m79.9/79.9 MB\u001b[0m \u001b[31m20.6 MB/s\u001b[0m eta \u001b[36m0:00:00\u001b[0m\r\n",
      "\u001b[?25hDownloading python_multipart-0.0.9-py3-none-any.whl (22 kB)\r\n",
      "Installing collected packages: kaleido, python-multipart\r\n",
      "Successfully installed kaleido-0.2.1 python-multipart-0.0.9\r\n"
     ]
    }
   ],
   "source": [
    "# installing additional libraries\n",
    "!pip install fastapi kaleido python-multipart uvicorn"
   ]
  },
  {
   "cell_type": "code",
   "execution_count": 5,
   "id": "98a831fe",
   "metadata": {
    "execution": {
     "iopub.execute_input": "2024-03-21T19:20:59.245433Z",
     "iopub.status.busy": "2024-03-21T19:20:59.245080Z",
     "iopub.status.idle": "2024-03-21T19:21:28.152249Z",
     "shell.execute_reply": "2024-03-21T19:21:28.151350Z"
    },
    "papermill": {
     "duration": 28.917248,
     "end_time": "2024-03-21T19:21:28.154515",
     "exception": false,
     "start_time": "2024-03-21T19:20:59.237267",
     "status": "completed"
    },
    "tags": []
   },
   "outputs": [
    {
     "name": "stdout",
     "output_type": "stream",
     "text": [
      "/kaggle/working/datasets\n",
      "Collecting roboflow\r\n",
      "  Downloading roboflow-1.1.24-py3-none-any.whl.metadata (9.3 kB)\r\n",
      "Collecting certifi==2023.7.22 (from roboflow)\r\n",
      "  Downloading certifi-2023.7.22-py3-none-any.whl.metadata (2.2 kB)\r\n",
      "Collecting chardet==4.0.0 (from roboflow)\r\n",
      "  Downloading chardet-4.0.0-py2.py3-none-any.whl.metadata (3.5 kB)\r\n",
      "Collecting cycler==0.10.0 (from roboflow)\r\n",
      "  Downloading cycler-0.10.0-py2.py3-none-any.whl.metadata (722 bytes)\r\n",
      "Collecting idna==2.10 (from roboflow)\r\n",
      "  Downloading idna-2.10-py2.py3-none-any.whl.metadata (9.1 kB)\r\n",
      "Requirement already satisfied: kiwisolver>=1.3.1 in /opt/conda/lib/python3.10/site-packages (from roboflow) (1.4.5)\r\n",
      "Requirement already satisfied: matplotlib in /opt/conda/lib/python3.10/site-packages (from roboflow) (3.7.5)\r\n",
      "Requirement already satisfied: numpy>=1.18.5 in /opt/conda/lib/python3.10/site-packages (from roboflow) (1.26.4)\r\n",
      "Collecting opencv-python-headless==4.8.0.74 (from roboflow)\r\n",
      "  Downloading opencv_python_headless-4.8.0.74-cp37-abi3-manylinux_2_17_x86_64.manylinux2014_x86_64.whl.metadata (19 kB)\r\n",
      "Requirement already satisfied: Pillow>=7.1.2 in /opt/conda/lib/python3.10/site-packages (from roboflow) (9.5.0)\r\n",
      "Requirement already satisfied: python-dateutil in /opt/conda/lib/python3.10/site-packages (from roboflow) (2.8.2)\r\n",
      "Requirement already satisfied: python-dotenv in /opt/conda/lib/python3.10/site-packages (from roboflow) (1.0.0)\r\n",
      "Requirement already satisfied: requests in /opt/conda/lib/python3.10/site-packages (from roboflow) (2.31.0)\r\n",
      "Requirement already satisfied: six in /opt/conda/lib/python3.10/site-packages (from roboflow) (1.16.0)\r\n",
      "Requirement already satisfied: urllib3>=1.26.6 in /opt/conda/lib/python3.10/site-packages (from roboflow) (1.26.18)\r\n",
      "Requirement already satisfied: tqdm>=4.41.0 in /opt/conda/lib/python3.10/site-packages (from roboflow) (4.66.1)\r\n",
      "Requirement already satisfied: PyYAML>=5.3.1 in /opt/conda/lib/python3.10/site-packages (from roboflow) (6.0.1)\r\n",
      "Requirement already satisfied: requests-toolbelt in /opt/conda/lib/python3.10/site-packages (from roboflow) (0.10.1)\r\n",
      "Collecting python-magic (from roboflow)\r\n",
      "  Downloading python_magic-0.4.27-py2.py3-none-any.whl.metadata (5.8 kB)\r\n",
      "Requirement already satisfied: contourpy>=1.0.1 in /opt/conda/lib/python3.10/site-packages (from matplotlib->roboflow) (1.2.0)\r\n",
      "Requirement already satisfied: fonttools>=4.22.0 in /opt/conda/lib/python3.10/site-packages (from matplotlib->roboflow) (4.47.0)\r\n",
      "Requirement already satisfied: packaging>=20.0 in /opt/conda/lib/python3.10/site-packages (from matplotlib->roboflow) (21.3)\r\n",
      "Requirement already satisfied: pyparsing>=2.3.1 in /opt/conda/lib/python3.10/site-packages (from matplotlib->roboflow) (3.1.1)\r\n",
      "Requirement already satisfied: charset-normalizer<4,>=2 in /opt/conda/lib/python3.10/site-packages (from requests->roboflow) (3.3.2)\r\n",
      "Downloading roboflow-1.1.24-py3-none-any.whl (71 kB)\r\n",
      "\u001b[2K   \u001b[90m━━━━━━━━━━━━━━━━━━━━━━━━━━━━━━━━━━━━━━━━\u001b[0m \u001b[32m71.7/71.7 kB\u001b[0m \u001b[31m3.1 MB/s\u001b[0m eta \u001b[36m0:00:00\u001b[0m\r\n",
      "\u001b[?25hDownloading certifi-2023.7.22-py3-none-any.whl (158 kB)\r\n",
      "\u001b[2K   \u001b[90m━━━━━━━━━━━━━━━━━━━━━━━━━━━━━━━━━━━━━━━━\u001b[0m \u001b[32m158.3/158.3 kB\u001b[0m \u001b[31m8.1 MB/s\u001b[0m eta \u001b[36m0:00:00\u001b[0m\r\n",
      "\u001b[?25hDownloading chardet-4.0.0-py2.py3-none-any.whl (178 kB)\r\n",
      "\u001b[2K   \u001b[90m━━━━━━━━━━━━━━━━━━━━━━━━━━━━━━━━━━━━━━━━\u001b[0m \u001b[32m178.7/178.7 kB\u001b[0m \u001b[31m14.0 MB/s\u001b[0m eta \u001b[36m0:00:00\u001b[0m\r\n",
      "\u001b[?25hDownloading cycler-0.10.0-py2.py3-none-any.whl (6.5 kB)\r\n",
      "Downloading idna-2.10-py2.py3-none-any.whl (58 kB)\r\n",
      "\u001b[2K   \u001b[90m━━━━━━━━━━━━━━━━━━━━━━━━━━━━━━━━━━━━━━━━\u001b[0m \u001b[32m58.8/58.8 kB\u001b[0m \u001b[31m4.6 MB/s\u001b[0m eta \u001b[36m0:00:00\u001b[0m\r\n",
      "\u001b[?25hDownloading opencv_python_headless-4.8.0.74-cp37-abi3-manylinux_2_17_x86_64.manylinux2014_x86_64.whl (49.1 MB)\r\n",
      "\u001b[2K   \u001b[90m━━━━━━━━━━━━━━━━━━━━━━━━━━━━━━━━━━━━━━━━\u001b[0m \u001b[32m49.1/49.1 MB\u001b[0m \u001b[31m32.9 MB/s\u001b[0m eta \u001b[36m0:00:00\u001b[0m\r\n",
      "\u001b[?25hDownloading python_magic-0.4.27-py2.py3-none-any.whl (13 kB)\r\n",
      "Installing collected packages: python-magic, opencv-python-headless, idna, cycler, chardet, certifi, roboflow\r\n",
      "  Attempting uninstall: opencv-python-headless\r\n",
      "    Found existing installation: opencv-python-headless 4.9.0.80\r\n",
      "    Uninstalling opencv-python-headless-4.9.0.80:\r\n",
      "      Successfully uninstalled opencv-python-headless-4.9.0.80\r\n",
      "  Attempting uninstall: idna\r\n",
      "    Found existing installation: idna 3.6\r\n",
      "    Uninstalling idna-3.6:\r\n",
      "      Successfully uninstalled idna-3.6\r\n",
      "  Attempting uninstall: cycler\r\n",
      "    Found existing installation: cycler 0.12.1\r\n",
      "    Uninstalling cycler-0.12.1:\r\n",
      "      Successfully uninstalled cycler-0.12.1\r\n",
      "  Attempting uninstall: certifi\r\n",
      "    Found existing installation: certifi 2024.2.2\r\n",
      "    Uninstalling certifi-2024.2.2:\r\n",
      "      Successfully uninstalled certifi-2024.2.2\r\n",
      "\u001b[31mERROR: pip's dependency resolver does not currently take into account all the packages that are installed. This behaviour is the source of the following dependency conflicts.\r\n",
      "tensorflow-decision-forests 1.8.1 requires wurlitzer, which is not installed.\r\n",
      "jupyterlab 4.1.2 requires jupyter-lsp>=2.0.0, but you have jupyter-lsp 1.5.1 which is incompatible.\r\n",
      "jupyterlab-lsp 5.0.3 requires jupyter-lsp>=2.0.0, but you have jupyter-lsp 1.5.1 which is incompatible.\r\n",
      "libpysal 4.9.2 requires packaging>=22, but you have packaging 21.3 which is incompatible.\r\n",
      "libpysal 4.9.2 requires shapely>=2.0.1, but you have shapely 1.8.5.post1 which is incompatible.\r\n",
      "momepy 0.7.0 requires shapely>=2, but you have shapely 1.8.5.post1 which is incompatible.\r\n",
      "osmnx 1.9.1 requires shapely>=2.0, but you have shapely 1.8.5.post1 which is incompatible.\r\n",
      "spopt 0.6.0 requires shapely>=2.0.1, but you have shapely 1.8.5.post1 which is incompatible.\r\n",
      "tensorflow 2.15.0 requires keras<2.16,>=2.15.0, but you have keras 3.0.5 which is incompatible.\r\n",
      "ydata-profiling 4.6.4 requires numpy<1.26,>=1.16.0, but you have numpy 1.26.4 which is incompatible.\u001b[0m\u001b[31m\r\n",
      "\u001b[0mSuccessfully installed certifi-2023.7.22 chardet-4.0.0 cycler-0.10.0 idna-2.10 opencv-python-headless-4.8.0.74 python-magic-0.4.27 roboflow-1.1.24\r\n",
      "loading Roboflow workspace...\n",
      "loading Roboflow project...\n"
     ]
    },
    {
     "name": "stderr",
     "output_type": "stream",
     "text": [
      "Downloading Dataset Version Zip in thz-4 to yolov8:: 100%|██████████| 245923/245923 [00:05<00:00, 42850.04it/s]"
     ]
    },
    {
     "name": "stdout",
     "output_type": "stream",
     "text": [
      "\n"
     ]
    },
    {
     "name": "stderr",
     "output_type": "stream",
     "text": [
      "\n",
      "Extracting Dataset Version Zip to thz-4 in yolov8:: 100%|██████████| 25924/25924 [00:02<00:00, 9056.42it/s] \n"
     ]
    }
   ],
   "source": [
    "# uploading dataset from roboflow\n",
    "\n",
    "!mkdir {HOME}/datasets\n",
    "%cd {HOME}/datasets\n",
    "\n",
    "!pip install roboflow\n",
    "\n",
    "from roboflow import Roboflow\n",
    "rf = Roboflow(api_key=\"THT9CtDUDzP7TPxM9CuV\")\n",
    "project = rf.workspace(\"projects-phgy0\").project(\"thz\")\n",
    "version = project.version(4)\n",
    "dataset = version.download(\"yolov8\")"
   ]
  },
  {
   "cell_type": "code",
   "execution_count": 6,
   "id": "07c30f6e",
   "metadata": {
    "execution": {
     "iopub.execute_input": "2024-03-21T19:21:28.189348Z",
     "iopub.status.busy": "2024-03-21T19:21:28.189045Z",
     "iopub.status.idle": "2024-03-21T19:21:28.195001Z",
     "shell.execute_reply": "2024-03-21T19:21:28.194125Z"
    },
    "papermill": {
     "duration": 0.025698,
     "end_time": "2024-03-21T19:21:28.197138",
     "exception": false,
     "start_time": "2024-03-21T19:21:28.171440",
     "status": "completed"
    },
    "tags": []
   },
   "outputs": [
    {
     "name": "stdout",
     "output_type": "stream",
     "text": [
      "/kaggle/working/datasets\n",
      "/kaggle/working\n"
     ]
    }
   ],
   "source": [
    "print(os.getcwd())\n",
    "%cd {HOME}"
   ]
  },
  {
   "cell_type": "code",
   "execution_count": 7,
   "id": "45059896",
   "metadata": {
    "execution": {
     "iopub.execute_input": "2024-03-21T19:21:28.231921Z",
     "iopub.status.busy": "2024-03-21T19:21:28.231599Z",
     "iopub.status.idle": "2024-03-21T19:21:30.794216Z",
     "shell.execute_reply": "2024-03-21T19:21:30.792986Z"
    },
    "papermill": {
     "duration": 2.583892,
     "end_time": "2024-03-21T19:21:30.797752",
     "exception": false,
     "start_time": "2024-03-21T19:21:28.213860",
     "status": "completed"
    },
    "tags": []
   },
   "outputs": [
    {
     "name": "stdout",
     "output_type": "stream",
     "text": [
      "Cloning into 'ultralytics'...\r\n",
      "remote: Enumerating objects: 23163, done.\u001b[K\r\n",
      "remote: Counting objects: 100% (194/194), done.\u001b[K\r\n",
      "remote: Compressing objects: 100% (145/145), done.\u001b[K\r\n",
      "remote: Total 23163 (delta 98), reused 96 (delta 49), pack-reused 22969\u001b[K\r\n",
      "Receiving objects: 100% (23163/23163), 13.77 MiB | 25.63 MiB/s, done.\r\n",
      "Resolving deltas: 100% (16174/16174), done.\r\n"
     ]
    }
   ],
   "source": [
    "!git clone https://github.com/ultralytics/ultralytics/"
   ]
  },
  {
   "cell_type": "code",
   "execution_count": 8,
   "id": "9dd4e34e",
   "metadata": {
    "execution": {
     "iopub.execute_input": "2024-03-21T19:21:30.838551Z",
     "iopub.status.busy": "2024-03-21T19:21:30.838245Z",
     "iopub.status.idle": "2024-03-21T19:21:31.810406Z",
     "shell.execute_reply": "2024-03-21T19:21:31.808883Z"
    },
    "papermill": {
     "duration": 0.995592,
     "end_time": "2024-03-21T19:21:31.813445",
     "exception": false,
     "start_time": "2024-03-21T19:21:30.817853",
     "status": "completed"
    },
    "tags": []
   },
   "outputs": [
    {
     "name": "stdout",
     "output_type": "stream",
     "text": [
      "# Ultralytics YOLO 🚀, AGPL-3.0 license\r\n",
      "# YOLOv8 object detection model with P3-P5 outputs. For Usage examples see https://docs.ultralytics.com/tasks/detect\r\n",
      "\r\n",
      "# Parameters\r\n",
      "nc: 80 # number of classes\r\n",
      "scales: # model compound scaling constants, i.e. 'model=yolov8n.yaml' will call yolov8.yaml with scale 'n'\r\n",
      "  # [depth, width, max_channels]\r\n",
      "  n: [0.33, 0.25, 1024] # YOLOv8n summary: 225 layers,  3157200 parameters,  3157184 gradients,   8.9 GFLOPs\r\n",
      "  s: [0.33, 0.50, 1024] # YOLOv8s summary: 225 layers, 11166560 parameters, 11166544 gradients,  28.8 GFLOPs\r\n",
      "  m: [0.67, 0.75, 768] # YOLOv8m summary: 295 layers, 25902640 parameters, 25902624 gradients,  79.3 GFLOPs\r\n",
      "  l: [1.00, 1.00, 512] # YOLOv8l summary: 365 layers, 43691520 parameters, 43691504 gradients, 165.7 GFLOPs\r\n",
      "  x: [1.00, 1.25, 512] # YOLOv8x summary: 365 layers, 68229648 parameters, 68229632 gradients, 258.5 GFLOPs\r\n",
      "\r\n",
      "# YOLOv8.0n backbone\r\n",
      "backbone:\r\n",
      "  # [from, repeats, module, args]\r\n",
      "  - [-1, 1, Conv, [64, 3, 2]] # 0-P1/2\r\n",
      "  - [-1, 1, Conv, [128, 3, 2]] # 1-P2/4\r\n",
      "  - [-1, 3, C2f, [128, True]]\r\n",
      "  - [-1, 1, Conv, [256, 3, 2]] # 3-P3/8\r\n",
      "  - [-1, 6, C2f, [256, True]]\r\n",
      "  - [-1, 1, Conv, [512, 3, 2]] # 5-P4/16\r\n",
      "  - [-1, 6, C2f, [512, True]]\r\n",
      "  - [-1, 1, Conv, [1024, 3, 2]] # 7-P5/32\r\n",
      "  - [-1, 3, C2f, [1024, True]]\r\n",
      "  - [-1, 1, SPPF, [1024, 5]] # 9\r\n",
      "\r\n",
      "# YOLOv8.0n head\r\n",
      "head:\r\n",
      "  - [-1, 1, nn.Upsample, [None, 2, \"nearest\"]]\r\n",
      "  - [[-1, 6], 1, Concat, [1]] # cat backbone P4\r\n",
      "  - [-1, 3, C2f, [512]] # 12\r\n",
      "\r\n",
      "  - [-1, 1, nn.Upsample, [None, 2, \"nearest\"]]\r\n",
      "  - [[-1, 4], 1, Concat, [1]] # cat backbone P3\r\n",
      "  - [-1, 3, C2f, [256]] # 15 (P3/8-small)\r\n",
      "\r\n",
      "  - [-1, 1, Conv, [256, 3, 2]]\r\n",
      "  - [[-1, 12], 1, Concat, [1]] # cat head P4\r\n",
      "  - [-1, 3, C2f, [512]] # 18 (P4/16-medium)\r\n",
      "\r\n",
      "  - [-1, 1, Conv, [512, 3, 2]]\r\n",
      "  - [[-1, 9], 1, Concat, [1]] # cat head P5\r\n",
      "  - [-1, 3, C2f, [1024]] # 21 (P5/32-large)\r\n",
      "\r\n",
      "  - [[15, 18, 21], 1, Detect, [nc]] # Detect(P3, P4, P5)\r\n"
     ]
    }
   ],
   "source": [
    "#from ultralytics.cfg.models import yolov8\n",
    "#this is the model configuration we will use for our tutorial \n",
    "%cat /kaggle/working/ultralytics/ultralytics/cfg/models/v8/yolov8.yaml"
   ]
  },
  {
   "cell_type": "code",
   "execution_count": 9,
   "id": "c6a0aeec",
   "metadata": {
    "execution": {
     "iopub.execute_input": "2024-03-21T19:21:31.864942Z",
     "iopub.status.busy": "2024-03-21T19:21:31.864550Z",
     "iopub.status.idle": "2024-03-21T19:21:31.873760Z",
     "shell.execute_reply": "2024-03-21T19:21:31.872813Z"
    },
    "papermill": {
     "duration": 0.035134,
     "end_time": "2024-03-21T19:21:31.876524",
     "exception": false,
     "start_time": "2024-03-21T19:21:31.841390",
     "status": "completed"
    },
    "tags": []
   },
   "outputs": [],
   "source": [
    "#customize iPython writefile so we can write variables\n",
    "from IPython.core.magic import register_line_cell_magic\n",
    "\n",
    "@register_line_cell_magic\n",
    "def writetemplate(line, cell):\n",
    "    with open(line, 'w') as f:\n",
    "        f.write(cell.format(**globals()))"
   ]
  },
  {
   "cell_type": "code",
   "execution_count": 10,
   "id": "23c339f6",
   "metadata": {
    "execution": {
     "iopub.execute_input": "2024-03-21T19:21:31.921919Z",
     "iopub.status.busy": "2024-03-21T19:21:31.921558Z",
     "iopub.status.idle": "2024-03-21T19:21:31.930491Z",
     "shell.execute_reply": "2024-03-21T19:21:31.929505Z"
    },
    "papermill": {
     "duration": 0.031555,
     "end_time": "2024-03-21T19:21:31.932582",
     "exception": false,
     "start_time": "2024-03-21T19:21:31.901027",
     "status": "completed"
    },
    "tags": []
   },
   "outputs": [],
   "source": [
    "%%writetemplate /kaggle/working/yolov8m_custom.yaml\n",
    "\n",
    "# Parameters\n",
    "nc: 22 # number of classes\n",
    "scales: # model compound scaling constants, i.e. 'model=yolov8n.yaml' will call yolov8.yaml with scale 'n'\n",
    "  # [depth, width, max_channels]\n",
    "  #n: [0.33, 0.25, 1024] # YOLOv8n summary: 225 layers,  3157200 parameters,  3157184 gradients,   8.9 GFLOPs\n",
    "  #s: [0.33, 0.50, 1024] # YOLOv8s summary: 225 layers, 11166560 parameters, 11166544 gradients,  28.8 GFLOPs\n",
    "  m: [0.67, 0.75, 768] # YOLOv8m summary: 295 layers, 25902640 parameters, 25902624 gradients,  79.3 GFLOPs\n",
    "  #l: [1.00, 1.00, 512] # YOLOv8l summary: 365 layers, 43691520 parameters, 43691504 gradients, 165.7 GFLOPs\n",
    "  #x: [1.00, 1.25, 512] # YOLOv8x summary: 365 layers, 68229648 parameters, 68229632 gradients, 258.5 GFLOPs\n",
    "\n",
    "# YOLOv8.0n backbone\n",
    "backbone:\n",
    "  # [from, repeats, module, args]\n",
    "  - [-1, 1, DWConv, [64, 3, 2]] # 0-P1/2\n",
    "  - [-1, 1, DWConv, [128, 3, 2]] # 1-P2/4\n",
    "  - [-1, 3, C2f, [128, True]]\n",
    "  - [-1, 1, DWConv, [256, 3, 2]] # 3-P3/8\n",
    "  - [-1, 6, C2f, [256, True]]\n",
    "  - [-1, 1, DWConv, [512, 3, 2]] # 5-P4/16\n",
    "  - [-1, 6, C2f, [512, True]]\n",
    "  - [-1, 1, DWConv, [1024, 3, 2]] # 7-P5/32\n",
    "  - [-1, 3, C2f, [1024, True]]\n",
    "  - [-1, 1, SPPF, [1024, 5]] # 9\n",
    "\n",
    "# YOLOv8.0n head\n",
    "head:\n",
    "  - [-1, 1, nn.Upsample, [None, 2, \"nearest\"]]\n",
    "  - [[-1, 6], 1, Concat, [1]] # cat backbone P4\n",
    "  - [-1, 3, C2f, [512]] # 12\n",
    "\n",
    "  - [-1, 1, nn.Upsample, [None, 2, \"nearest\"]]\n",
    "  - [[-1, 4], 1, Concat, [1]] # cat backbone P3\n",
    "  - [-1, 3, C2f, [256]] # 15 (P3/8-small)\n",
    "\n",
    "  - [-1, 1, DWConv, [256, 3, 2]]\n",
    "  - [[-1, 12], 1, Concat, [1]] # cat head P4\n",
    "  - [-1, 3, C2f, [512]] # 18 (P4/16-medium)\n",
    "\n",
    "  - [-1, 1, DWConv, [512, 3, 2]]\n",
    "  - [[-1, 9], 1, Concat, [1]] # cat head P5\n",
    "  - [-1, 3, C2f, [1024]] # 21 (P5/32-large)\n",
    "\n",
    "  - [[15, 18, 21], 1, Detect, [nc]] # Detect(P3, P4, P5)"
   ]
  },
  {
   "cell_type": "code",
   "execution_count": 11,
   "id": "2fe7266b",
   "metadata": {
    "execution": {
     "iopub.execute_input": "2024-03-21T19:21:31.977963Z",
     "iopub.status.busy": "2024-03-21T19:21:31.977587Z",
     "iopub.status.idle": "2024-03-21T20:32:33.833526Z",
     "shell.execute_reply": "2024-03-21T20:32:33.832450Z"
    },
    "papermill": {
     "duration": 4261.881372,
     "end_time": "2024-03-21T20:32:33.835979",
     "exception": false,
     "start_time": "2024-03-21T19:21:31.954607",
     "status": "completed"
    },
    "tags": []
   },
   "outputs": [
    {
     "name": "stdout",
     "output_type": "stream",
     "text": [
      "CPU times: user 2 µs, sys: 1 µs, total: 3 µs\n",
      "Wall time: 8.34 µs\n",
      "\r\n",
      "                   from  n    params  module                                       arguments                     \r\n",
      "  0                  -1  1       528  ultralytics.nn.modules.conv.DWConv           [3, 48, 3, 2]                 \r\n",
      "  1                  -1  1      1056  ultralytics.nn.modules.conv.DWConv           [48, 96, 3, 2]                \r\n",
      "  2                  -1  2    111360  ultralytics.nn.modules.block.C2f             [96, 96, 2, True]             \r\n",
      "  3                  -1  1      2112  ultralytics.nn.modules.conv.DWConv           [96, 192, 3, 2]               \r\n",
      "  4                  -1  4    813312  ultralytics.nn.modules.block.C2f             [192, 192, 4, True]           \r\n",
      "  5                  -1  1      4224  ultralytics.nn.modules.conv.DWConv           [192, 384, 3, 2]              \r\n",
      "  6                  -1  4   3248640  ultralytics.nn.modules.block.C2f             [384, 384, 4, True]           \r\n",
      "  7                  -1  1     11520  ultralytics.nn.modules.conv.DWConv           [384, 576, 3, 2]              \r\n",
      "  8                  -1  2   3985920  ultralytics.nn.modules.block.C2f             [576, 576, 2, True]           \r\n",
      "  9                  -1  1    831168  ultralytics.nn.modules.block.SPPF            [576, 576, 5]                 \r\n",
      " 10                  -1  1         0  torch.nn.modules.upsampling.Upsample         [None, 2, 'nearest']          \r\n",
      " 11             [-1, 6]  1         0  ultralytics.nn.modules.conv.Concat           [1]                           \r\n",
      " 12                  -1  2   1993728  ultralytics.nn.modules.block.C2f             [960, 384, 2]                 \r\n",
      " 13                  -1  1         0  torch.nn.modules.upsampling.Upsample         [None, 2, 'nearest']          \r\n",
      " 14             [-1, 4]  1         0  ultralytics.nn.modules.conv.Concat           [1]                           \r\n",
      " 15                  -1  2    517632  ultralytics.nn.modules.block.C2f             [576, 192, 2]                 \r\n",
      " 16                  -1  1      2112  ultralytics.nn.modules.conv.DWConv           [192, 192, 3, 2]              \r\n",
      " 17            [-1, 12]  1         0  ultralytics.nn.modules.conv.Concat           [1]                           \r\n",
      " 18                  -1  2   1846272  ultralytics.nn.modules.block.C2f             [576, 384, 2]                 \r\n",
      " 19                  -1  1      4224  ultralytics.nn.modules.conv.DWConv           [384, 384, 3, 2]              \r\n",
      " 20             [-1, 9]  1         0  ultralytics.nn.modules.conv.Concat           [1]                           \r\n",
      " 21                  -1  2   4207104  ultralytics.nn.modules.block.C2f             [960, 576, 2]                 \r\n",
      " 22        [15, 18, 21]  1   3788434  ultralytics.nn.modules.head.Detect           [22, [192, 384, 576]]         \r\n",
      "YOLOv8m_custom summary: 295 layers, 21369346 parameters, 21369330 gradients\r\n",
      "\r\n",
      "New https://pypi.org/project/ultralytics/8.1.30 available 😃 Update with 'pip install -U ultralytics'\r\n",
      "Ultralytics YOLOv8.0.196 🚀 Python-3.10.13 torch-2.1.2 CUDA:0 (Tesla T4, 15102MiB)\r\n",
      "\u001b[34m\u001b[1mengine/trainer: \u001b[0mtask=detect, mode=train, model=/kaggle/working/yolov8m_custom.yaml, data=/kaggle/working/datasets/thz-4/data.yaml, epochs=25, patience=50, batch=16, imgsz=416, save=True, save_period=-1, cache=False, device=None, workers=8, project=None, name=None, exist_ok=False, pretrained=True, optimizer=auto, verbose=True, seed=0, deterministic=True, single_cls=False, rect=False, cos_lr=False, close_mosaic=10, resume=False, amp=True, fraction=1.0, profile=False, freeze=None, overlap_mask=True, mask_ratio=4, dropout=0.0, val=True, split=val, save_json=False, save_hybrid=False, conf=None, iou=0.7, max_det=300, half=False, dnn=False, plots=True, source=None, show=False, save_txt=False, save_conf=False, save_crop=False, show_labels=True, show_conf=True, vid_stride=1, stream_buffer=False, line_width=None, visualize=False, augment=False, agnostic_nms=False, classes=None, retina_masks=False, boxes=True, format=torchscript, keras=False, optimize=False, int8=False, dynamic=False, simplify=False, opset=None, workspace=4, nms=False, lr0=0.01, lrf=0.01, momentum=0.937, weight_decay=0.0005, warmup_epochs=3.0, warmup_momentum=0.8, warmup_bias_lr=0.1, box=7.5, cls=0.5, dfl=1.5, pose=12.0, kobj=1.0, label_smoothing=0.0, nbs=64, hsv_h=0.015, hsv_s=0.7, hsv_v=0.4, degrees=0.0, translate=0.1, scale=0.5, shear=0.0, perspective=0.0, flipud=0.0, fliplr=0.5, mosaic=1.0, mixup=0.0, copy_paste=0.0, cfg=None, tracker=botsort.yaml, save_dir=runs/detect/train\r\n",
      "Downloading https://ultralytics.com/assets/Arial.ttf to '/root/.config/Ultralytics/Arial.ttf'...\r\n",
      "100%|████████████████████████████████████████| 755k/755k [00:00<00:00, 14.7MB/s]\r\n",
      "2024-03-21 19:21:47.877431: E external/local_xla/xla/stream_executor/cuda/cuda_dnn.cc:9261] Unable to register cuDNN factory: Attempting to register factory for plugin cuDNN when one has already been registered\r\n",
      "2024-03-21 19:21:47.877546: E external/local_xla/xla/stream_executor/cuda/cuda_fft.cc:607] Unable to register cuFFT factory: Attempting to register factory for plugin cuFFT when one has already been registered\r\n",
      "2024-03-21 19:21:48.008106: E external/local_xla/xla/stream_executor/cuda/cuda_blas.cc:1515] Unable to register cuBLAS factory: Attempting to register factory for plugin cuBLAS when one has already been registered\r\n",
      "\r\n",
      "                   from  n    params  module                                       arguments                     \r\n",
      "  0                  -1  1       528  ultralytics.nn.modules.conv.DWConv           [3, 48, 3, 2]                 \r\n",
      "  1                  -1  1      1056  ultralytics.nn.modules.conv.DWConv           [48, 96, 3, 2]                \r\n",
      "  2                  -1  2    111360  ultralytics.nn.modules.block.C2f             [96, 96, 2, True]             \r\n",
      "  3                  -1  1      2112  ultralytics.nn.modules.conv.DWConv           [96, 192, 3, 2]               \r\n",
      "  4                  -1  4    813312  ultralytics.nn.modules.block.C2f             [192, 192, 4, True]           \r\n",
      "  5                  -1  1      4224  ultralytics.nn.modules.conv.DWConv           [192, 384, 3, 2]              \r\n",
      "  6                  -1  4   3248640  ultralytics.nn.modules.block.C2f             [384, 384, 4, True]           \r\n",
      "  7                  -1  1     11520  ultralytics.nn.modules.conv.DWConv           [384, 576, 3, 2]              \r\n",
      "  8                  -1  2   3985920  ultralytics.nn.modules.block.C2f             [576, 576, 2, True]           \r\n",
      "  9                  -1  1    831168  ultralytics.nn.modules.block.SPPF            [576, 576, 5]                 \r\n",
      " 10                  -1  1         0  torch.nn.modules.upsampling.Upsample         [None, 2, 'nearest']          \r\n",
      " 11             [-1, 6]  1         0  ultralytics.nn.modules.conv.Concat           [1]                           \r\n",
      " 12                  -1  2   1993728  ultralytics.nn.modules.block.C2f             [960, 384, 2]                 \r\n",
      " 13                  -1  1         0  torch.nn.modules.upsampling.Upsample         [None, 2, 'nearest']          \r\n",
      " 14             [-1, 4]  1         0  ultralytics.nn.modules.conv.Concat           [1]                           \r\n",
      " 15                  -1  2    517632  ultralytics.nn.modules.block.C2f             [576, 192, 2]                 \r\n",
      " 16                  -1  1      2112  ultralytics.nn.modules.conv.DWConv           [192, 192, 3, 2]              \r\n",
      " 17            [-1, 12]  1         0  ultralytics.nn.modules.conv.Concat           [1]                           \r\n",
      " 18                  -1  2   1846272  ultralytics.nn.modules.block.C2f             [576, 384, 2]                 \r\n",
      " 19                  -1  1      4224  ultralytics.nn.modules.conv.DWConv           [384, 384, 3, 2]              \r\n",
      " 20             [-1, 9]  1         0  ultralytics.nn.modules.conv.Concat           [1]                           \r\n",
      " 21                  -1  2   4207104  ultralytics.nn.modules.block.C2f             [960, 576, 2]                 \r\n",
      " 22        [15, 18, 21]  1   3788434  ultralytics.nn.modules.head.Detect           [22, [192, 384, 576]]         \r\n",
      "YOLOv8m_custom summary: 295 layers, 21369346 parameters, 21369330 gradients\r\n",
      "\r\n",
      "\u001b[34m\u001b[1mTensorBoard: \u001b[0mStart with 'tensorboard --logdir runs/detect/train', view at http://localhost:6006/\r\n",
      "Freezing layer 'model.22.dfl.conv.weight'\r\n",
      "\u001b[34m\u001b[1mAMP: \u001b[0mrunning Automatic Mixed Precision (AMP) checks with YOLOv8n...\r\n",
      "Downloading https://github.com/ultralytics/assets/releases/download/v0.0.0/yolov8n.pt to 'yolov8n.pt'...\r\n",
      "100%|██████████████████████████████████████| 6.23M/6.23M [00:00<00:00, 73.3MB/s]\r\n",
      "\u001b[34m\u001b[1mAMP: \u001b[0mchecks passed ✅\r\n",
      "\u001b[34m\u001b[1mtrain: \u001b[0mScanning /kaggle/working/datasets/thz-4/train/labels... 11512 images, 822\u001b[0m\r\n",
      "\u001b[34m\u001b[1mtrain: \u001b[0mNew cache created: /kaggle/working/datasets/thz-4/train/labels.cache\r\n",
      "\u001b[34m\u001b[1malbumentations: \u001b[0mBlur(p=0.01, blur_limit=(3, 7)), MedianBlur(p=0.01, blur_limit=(3, 7)), ToGray(p=0.01), CLAHE(p=0.01, clip_limit=(1, 4.0), tile_grid_size=(8, 8))\r\n",
      "\u001b[34m\u001b[1mval: \u001b[0mScanning /kaggle/working/datasets/thz-4/valid/labels... 722 images, 40 back\u001b[0m\r\n",
      "\u001b[34m\u001b[1mval: \u001b[0mNew cache created: /kaggle/working/datasets/thz-4/valid/labels.cache\r\n",
      "Plotting labels to runs/detect/train/labels.jpg... \r\n",
      "\u001b[34m\u001b[1moptimizer:\u001b[0m 'optimizer=auto' found, ignoring 'lr0=0.01' and 'momentum=0.937' and determining best 'optimizer', 'lr0' and 'momentum' automatically... \r\n",
      "\u001b[34m\u001b[1moptimizer:\u001b[0m AdamW(lr=0.000385, momentum=0.9) with parameter groups 77 weight(decay=0.0), 84 weight(decay=0.0005), 83 bias(decay=0.0)\r\n",
      "Image sizes 416 train, 416 val\r\n",
      "Using 2 dataloader workers\r\n",
      "Logging results to \u001b[1mruns/detect/train\u001b[0m\r\n",
      "Starting training for 25 epochs...\r\n",
      "\r\n",
      "      Epoch    GPU_mem   box_loss   cls_loss   dfl_loss  Instances       Size\r\n",
      "       1/25      3.12G       2.89      4.133      3.307         18        416: 1\r\n",
      "                 Class     Images  Instances      Box(P          R      mAP50  m\r\n",
      "                   all        722        682      0.506      0.482      0.539      0.263\r\n",
      "\r\n",
      "      Epoch    GPU_mem   box_loss   cls_loss   dfl_loss  Instances       Size\r\n",
      "       2/25      3.27G      1.856      2.289      2.259          9        416: 1\r\n",
      "                 Class     Images  Instances      Box(P          R      mAP50  m\r\n",
      "                   all        722        682      0.672      0.761      0.845       0.49\r\n",
      "\r\n",
      "      Epoch    GPU_mem   box_loss   cls_loss   dfl_loss  Instances       Size\r\n",
      "       3/25      3.27G      1.644      1.796      1.994         13        416: 1\r\n",
      "                 Class     Images  Instances      Box(P          R      mAP50  m\r\n",
      "                   all        722        682      0.859      0.884      0.968      0.619\r\n",
      "\r\n",
      "      Epoch    GPU_mem   box_loss   cls_loss   dfl_loss  Instances       Size\r\n",
      "       4/25      3.27G      1.515      1.518      1.864          8        416: 1\r\n",
      "                 Class     Images  Instances      Box(P          R      mAP50  m\r\n",
      "                   all        722        682      0.909      0.919      0.978      0.644\r\n",
      "\r\n",
      "      Epoch    GPU_mem   box_loss   cls_loss   dfl_loss  Instances       Size\r\n",
      "       5/25      3.27G      1.439      1.344      1.775         18        416: 1\r\n",
      "                 Class     Images  Instances      Box(P          R      mAP50  m\r\n",
      "                   all        722        682      0.923      0.962      0.992      0.652\r\n",
      "\r\n",
      "      Epoch    GPU_mem   box_loss   cls_loss   dfl_loss  Instances       Size\r\n",
      "       6/25      3.27G       1.38      1.221      1.711          8        416: 1\r\n",
      "                 Class     Images  Instances      Box(P          R      mAP50  m\r\n",
      "                   all        722        682      0.979      0.989      0.994      0.689\r\n",
      "\r\n",
      "      Epoch    GPU_mem   box_loss   cls_loss   dfl_loss  Instances       Size\r\n",
      "       7/25      3.27G      1.334      1.115       1.66         17        416: 1\r\n",
      "                 Class     Images  Instances      Box(P          R      mAP50  m\r\n",
      "                   all        722        682      0.968      0.991      0.994      0.694\r\n",
      "\r\n",
      "      Epoch    GPU_mem   box_loss   cls_loss   dfl_loss  Instances       Size\r\n",
      "       8/25      3.27G      1.288      1.029      1.619          9        416: 1\r\n",
      "                 Class     Images  Instances      Box(P          R      mAP50  m\r\n",
      "                   all        722        682      0.989      0.994      0.995      0.698\r\n",
      "\r\n",
      "      Epoch    GPU_mem   box_loss   cls_loss   dfl_loss  Instances       Size\r\n",
      "       9/25      3.27G       1.25      0.965      1.595         15        416: 1\r\n",
      "                 Class     Images  Instances      Box(P          R      mAP50  m\r\n",
      "                   all        722        682       0.98      0.995      0.995      0.702\r\n",
      "\r\n",
      "      Epoch    GPU_mem   box_loss   cls_loss   dfl_loss  Instances       Size\r\n",
      "      10/25      3.27G      1.236     0.9279       1.58         13        416: 1\r\n",
      "                 Class     Images  Instances      Box(P          R      mAP50  m\r\n",
      "                   all        722        682      0.983       0.99      0.995      0.705\r\n",
      "\r\n",
      "      Epoch    GPU_mem   box_loss   cls_loss   dfl_loss  Instances       Size\r\n",
      "      11/25      3.27G      1.213     0.8782      1.557         12        416: 1\r\n",
      "                 Class     Images  Instances      Box(P          R      mAP50  m\r\n",
      "                   all        722        682      0.981      0.996      0.995      0.704\r\n",
      "\r\n",
      "      Epoch    GPU_mem   box_loss   cls_loss   dfl_loss  Instances       Size\r\n",
      "      12/25      3.27G      1.201     0.8612      1.551         12        416: 1\r\n",
      "                 Class     Images  Instances      Box(P          R      mAP50  m\r\n",
      "                   all        722        682      0.987      0.994      0.993      0.702\r\n",
      "\r\n",
      "      Epoch    GPU_mem   box_loss   cls_loss   dfl_loss  Instances       Size\r\n",
      "      13/25      3.27G       1.17     0.8183      1.519         16        416: 1\r\n",
      "                 Class     Images  Instances      Box(P          R      mAP50  m\r\n",
      "                   all        722        682      0.991      0.993      0.995      0.702\r\n",
      "\r\n",
      "      Epoch    GPU_mem   box_loss   cls_loss   dfl_loss  Instances       Size\r\n",
      "      14/25      3.27G      1.154     0.7828       1.51         16        416: 1\r\n",
      "                 Class     Images  Instances      Box(P          R      mAP50  m\r\n",
      "                   all        722        682      0.985      0.999      0.995      0.726\r\n",
      "\r\n",
      "      Epoch    GPU_mem   box_loss   cls_loss   dfl_loss  Instances       Size\r\n",
      "      15/25      3.27G       1.14     0.7543      1.494         16        416: 1\r\n",
      "                 Class     Images  Instances      Box(P          R      mAP50  m\r\n",
      "                   all        722        682      0.992      0.998      0.995      0.735\r\n",
      "Closing dataloader mosaic\r\n",
      "\u001b[34m\u001b[1malbumentations: \u001b[0mBlur(p=0.01, blur_limit=(3, 7)), MedianBlur(p=0.01, blur_limit=(3, 7)), ToGray(p=0.01), CLAHE(p=0.01, clip_limit=(1, 4.0), tile_grid_size=(8, 8))\r\n",
      "\r\n",
      "      Epoch    GPU_mem   box_loss   cls_loss   dfl_loss  Instances       Size\r\n",
      "      16/25      3.27G      1.042     0.5417      1.525          6        416: 1\r\n",
      "                 Class     Images  Instances      Box(P          R      mAP50  m\r\n",
      "                   all        722        682      0.989      0.997      0.995       0.73\r\n",
      "\r\n",
      "      Epoch    GPU_mem   box_loss   cls_loss   dfl_loss  Instances       Size\r\n",
      "      17/25      3.27G      1.017     0.5067      1.507          7        416: 1\r\n",
      "                 Class     Images  Instances      Box(P          R      mAP50  m\r\n",
      "                   all        722        682       0.99      0.999      0.995      0.735\r\n",
      "\r\n",
      "      Epoch    GPU_mem   box_loss   cls_loss   dfl_loss  Instances       Size\r\n",
      "      18/25      3.27G      1.001     0.4841      1.485          7        416: 1\r\n",
      "                 Class     Images  Instances      Box(P          R      mAP50  m\r\n",
      "                   all        722        682      0.992          1      0.995      0.745\r\n",
      "\r\n",
      "      Epoch    GPU_mem   box_loss   cls_loss   dfl_loss  Instances       Size\r\n",
      "      19/25      3.27G     0.9753     0.4692      1.458          6        416: 1\r\n",
      "                 Class     Images  Instances      Box(P          R      mAP50  m\r\n",
      "                   all        722        682      0.993      0.999      0.995      0.747\r\n",
      "\r\n",
      "      Epoch    GPU_mem   box_loss   cls_loss   dfl_loss  Instances       Size\r\n",
      "      20/25      3.27G     0.9583     0.4499      1.446          8        416: 1\r\n",
      "                 Class     Images  Instances      Box(P          R      mAP50  m\r\n",
      "                   all        722        682      0.994          1      0.995      0.751\r\n",
      "\r\n",
      "      Epoch    GPU_mem   box_loss   cls_loss   dfl_loss  Instances       Size\r\n",
      "      21/25      3.27G      0.945     0.4361      1.431          8        416: 1\r\n",
      "                 Class     Images  Instances      Box(P          R      mAP50  m\r\n",
      "                   all        722        682      0.993          1      0.995      0.753\r\n",
      "\r\n",
      "      Epoch    GPU_mem   box_loss   cls_loss   dfl_loss  Instances       Size\r\n",
      "      22/25      3.27G     0.9317     0.4267       1.41          8        416: 1\r\n",
      "                 Class     Images  Instances      Box(P          R      mAP50  m\r\n",
      "                   all        722        682      0.992          1      0.995      0.752\r\n",
      "\r\n",
      "      Epoch    GPU_mem   box_loss   cls_loss   dfl_loss  Instances       Size\r\n",
      "      23/25      3.27G      0.917      0.414        1.4          6        416: 1\r\n",
      "                 Class     Images  Instances      Box(P          R      mAP50  m\r\n",
      "                   all        722        682      0.993      0.999      0.995      0.756\r\n",
      "\r\n",
      "      Epoch    GPU_mem   box_loss   cls_loss   dfl_loss  Instances       Size\r\n",
      "      24/25      3.28G     0.8961     0.4024       1.38          7        416: 1\r\n",
      "                 Class     Images  Instances      Box(P          R      mAP50  m\r\n",
      "                   all        722        682      0.994      0.999      0.995      0.764\r\n",
      "\r\n",
      "      Epoch    GPU_mem   box_loss   cls_loss   dfl_loss  Instances       Size\r\n",
      "      25/25      3.27G     0.8823      0.396      1.367          6        416: 1\r\n",
      "                 Class     Images  Instances      Box(P          R      mAP50  m\r\n",
      "                   all        722        682      0.994          1      0.995      0.763\r\n",
      "\r\n",
      "25 epochs completed in 1.166 hours.\r\n",
      "Optimizer stripped from runs/detect/train/weights/last.pt, 43.0MB\r\n",
      "Optimizer stripped from runs/detect/train/weights/best.pt, 43.0MB\r\n",
      "\r\n",
      "Validating runs/detect/train/weights/best.pt...\r\n",
      "Ultralytics YOLOv8.0.196 🚀 Python-3.10.13 torch-2.1.2 CUDA:0 (Tesla T4, 15102MiB)\r\n",
      "YOLOv8m_custom summary (fused): 218 layers, 21352786 parameters, 0 gradients\r\n",
      "                 Class     Images  Instances      Box(P          R      mAP50  m\r\n",
      "                   all        722        682      0.994      0.999      0.995      0.764\r\n",
      "               A4paper        722         33          1          1      0.995      0.876\r\n",
      "                    AK        722         19      0.986          1      0.995      0.849\r\n",
      "         AK_noMagazine        722         33      0.992          1      0.995      0.847\r\n",
      "                   M16        722         23      0.993          1      0.995      0.764\r\n",
      "                   axe        722         41      0.993          1      0.995      0.867\r\n",
      "           beltholster        722         39      0.997          1      0.995       0.78\r\n",
      "                bottle        722         31      0.994          1      0.995      0.773\r\n",
      "           candyboxLid        722         41      0.994          1      0.995      0.841\r\n",
      "          cigaretteBox        722         35      0.996          1      0.995      0.673\r\n",
      "                 fomka        722         32      0.997          1      0.995      0.705\r\n",
      "              glassjar        722         26      0.998          1      0.995      0.697\r\n",
      "       hammerAndSickle        722         18      0.986          1      0.995      0.742\r\n",
      "           handGranade        722         35      0.995          1      0.995      0.618\r\n",
      "                 knife        722         29      0.993          1      0.995      0.805\r\n",
      "             meatKnife        722         39      0.995          1      0.995      0.829\r\n",
      "            phoneNokia        722         33      0.995          1      0.995      0.726\r\n",
      "           phoneXiaomi        722         26      0.993          1      0.995      0.713\r\n",
      "                pistol        722         43      0.996          1      0.995      0.766\r\n",
      "           saucepanLid        722         27      0.991          1      0.995      0.823\r\n",
      "       shoulderholster        722         23      0.989          1      0.995      0.838\r\n",
      "                   tin        722         34      0.996          1      0.995      0.694\r\n",
      "               usbDisk        722         22          1      0.971      0.995      0.589\r\n",
      "Speed: 0.1ms preprocess, 3.9ms inference, 0.0ms loss, 1.4ms postprocess per image\r\n",
      "Results saved to \u001b[1mruns/detect/train\u001b[0m\r\n",
      "💡 Learn more at https://docs.ultralytics.com/modes/train\r\n"
     ]
    }
   ],
   "source": [
    "# training YOLOv8\n",
    "%time \n",
    "!yolo task=detect mode=train model=/kaggle/working/yolov8m_custom.yaml data={dataset.location}/data.yaml epochs=25 imgsz=416 plots=True "
   ]
  },
  {
   "cell_type": "code",
   "execution_count": null,
   "id": "0a28a817",
   "metadata": {
    "papermill": {
     "duration": 1.594464,
     "end_time": "2024-03-21T20:32:37.132016",
     "exception": false,
     "start_time": "2024-03-21T20:32:35.537552",
     "status": "completed"
    },
    "tags": []
   },
   "outputs": [],
   "source": []
  }
 ],
 "metadata": {
  "kaggle": {
   "accelerator": "nvidiaTeslaT4",
   "dataSources": [],
   "dockerImageVersionId": 30664,
   "isGpuEnabled": true,
   "isInternetEnabled": true,
   "language": "python",
   "sourceType": "notebook"
  },
  "kernelspec": {
   "display_name": "Python 3",
   "language": "python",
   "name": "python3"
  },
  "language_info": {
   "codemirror_mode": {
    "name": "ipython",
    "version": 3
   },
   "file_extension": ".py",
   "mimetype": "text/x-python",
   "name": "python",
   "nbconvert_exporter": "python",
   "pygments_lexer": "ipython3",
   "version": "3.10.13"
  },
  "papermill": {
   "default_parameters": {},
   "duration": 4342.341711,
   "end_time": "2024-03-21T20:32:39.716837",
   "environment_variables": {},
   "exception": null,
   "input_path": "__notebook__.ipynb",
   "output_path": "__notebook__.ipynb",
   "parameters": {},
   "start_time": "2024-03-21T19:20:17.375126",
   "version": "2.5.0"
  }
 },
 "nbformat": 4,
 "nbformat_minor": 5
}
